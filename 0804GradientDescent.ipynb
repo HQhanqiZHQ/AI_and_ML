{
 "cells": [
  {
   "cell_type": "code",
   "execution_count": 1,
   "id": "4076169e",
   "metadata": {},
   "outputs": [],
   "source": [
    "import numpy as np\n",
    "import random"
   ]
  },
  {
   "cell_type": "code",
   "execution_count": 2,
   "id": "757e561d",
   "metadata": {},
   "outputs": [],
   "source": [
    "def genData(numPoints, A, K, variance):\n",
    "    x=np.zeros(shape=(numPoints,2))\n",
    "    y=np.zeros(shape=numPoints)\n",
    "    for i in range(0, numPoints):\n",
    "        x[i][0] = 1\n",
    "        x[i][1] = i\n",
    "        y[i] = (A*i+K)+random.uniform(0,1)*variance\n",
    "    return x,y"
   ]
  },
  {
   "cell_type": "code",
   "execution_count": 3,
   "id": "95593362",
   "metadata": {},
   "outputs": [],
   "source": [
    "x,y = genData(numPoints=100,A=2,K=100,variance=30)"
   ]
  },
  {
   "cell_type": "code",
   "execution_count": 4,
   "id": "aa4a79e2",
   "metadata": {},
   "outputs": [
    {
     "data": {
      "text/plain": [
       "[Text(0.5, 0, 'x'),\n",
       " Text(0, 0.5, 'y'),\n",
       " Text(0.5, 1.0, 'Graph of y =2.x + 100 + random.uniform(30)')]"
      ]
     },
     "execution_count": 4,
     "metadata": {},
     "output_type": "execute_result"
    },
    {
     "data": {
      "image/png": "[encoded data removed]",
      "text/plain": [
       "<Figure size 504x360 with 1 Axes>"
      ]
     },
     "metadata": {
      "needs_background": "light"
     },
     "output_type": "display_data"
    }
   ],
   "source": [
    "%matplotlib inline\n",
    "import seaborn as sns\n",
    "import matplotlib.pyplot as plt\n",
    "\n",
    "fig = plt.figure(figsize=(7,5))\n",
    "fig = sns.scatterplot(x=x[:,1],y=y)\n",
    "fig.set(xlabel =\"x\",ylabel=\"y\",title='Graph of y =2.x + 100 + random.uniform(30)')"
   ]
  },
  {
   "cell_type": "code",
   "execution_count": 5,
   "id": "f8810876",
   "metadata": {},
   "outputs": [
    {
     "name": "stdout",
     "output_type": "stream",
     "text": [
      "m (Length)=  100 and n (width)= 2\n"
     ]
    }
   ],
   "source": [
    "m,n =np.shape(x)\n",
    "print(\"m (Length)= \", m, \"and n (width)=\", n)"
   ]
  },
  {
   "cell_type": "code",
   "execution_count": 6,
   "id": "2fc98d09",
   "metadata": {},
   "outputs": [
    {
     "name": "stdout",
     "output_type": "stream",
     "text": [
      "[[1. 0.]\n",
      " [1. 1.]\n",
      " [1. 2.]\n",
      " [1. 3.]\n",
      " [1. 4.]]\n"
     ]
    }
   ],
   "source": [
    "print(x[0:5])"
   ]
  },
  {
   "cell_type": "code",
   "execution_count": 7,
   "id": "88ae7325",
   "metadata": {},
   "outputs": [
    {
     "name": "stdout",
     "output_type": "stream",
     "text": [
      "[1. 1.]\n"
     ]
    }
   ],
   "source": [
    "alpha = 0.0005\n",
    "theta = np.ones(n)\n",
    "\n",
    "print(theta)"
   ]
  },
  {
   "cell_type": "code",
   "execution_count": 8,
   "id": "d8ba3ec3",
   "metadata": {},
   "outputs": [
    {
     "name": "stdout",
     "output_type": "stream",
     "text": [
      "[[ 1.  1.  1.  1.  1.  1.  1.  1.  1.  1.  1.  1.  1.  1.  1.  1.  1.  1.\n",
      "   1.  1.  1.  1.  1.  1.  1.  1.  1.  1.  1.  1.  1.  1.  1.  1.  1.  1.\n",
      "   1.  1.  1.  1.  1.  1.  1.  1.  1.  1.  1.  1.  1.  1.  1.  1.  1.  1.\n",
      "   1.  1.  1.  1.  1.  1.  1.  1.  1.  1.  1.  1.  1.  1.  1.  1.  1.  1.\n",
      "   1.  1.  1.  1.  1.  1.  1.  1.  1.  1.  1.  1.  1.  1.  1.  1.  1.  1.\n",
      "   1.  1.  1.  1.  1.  1.  1.  1.  1.  1.]\n",
      " [ 0.  1.  2.  3.  4.  5.  6.  7.  8.  9. 10. 11. 12. 13. 14. 15. 16. 17.\n",
      "  18. 19. 20. 21. 22. 23. 24. 25. 26. 27. 28. 29. 30. 31. 32. 33. 34. 35.\n",
      "  36. 37. 38. 39. 40. 41. 42. 43. 44. 45. 46. 47. 48. 49. 50. 51. 52. 53.\n",
      "  54. 55. 56. 57. 58. 59. 60. 61. 62. 63. 64. 65. 66. 67. 68. 69. 70. 71.\n",
      "  72. 73. 74. 75. 76. 77. 78. 79. 80. 81. 82. 83. 84. 85. 86. 87. 88. 89.\n",
      "  90. 91. 92. 93. 94. 95. 96. 97. 98. 99.]]\n"
     ]
    }
   ],
   "source": [
    "print(x.T)"
   ]
  },
  {
   "cell_type": "code",
   "execution_count": 9,
   "id": "59d97717",
   "metadata": {},
   "outputs": [
    {
     "data": {
      "text/plain": [
       "array([  1.,   2.,   3.,   4.,   5.,   6.,   7.,   8.,   9.,  10.,  11.,\n",
       "        12.,  13.,  14.,  15.,  16.,  17.,  18.,  19.,  20.,  21.,  22.,\n",
       "        23.,  24.,  25.,  26.,  27.,  28.,  29.,  30.,  31.,  32.,  33.,\n",
       "        34.,  35.,  36.,  37.,  38.,  39.,  40.,  41.,  42.,  43.,  44.,\n",
       "        45.,  46.,  47.,  48.,  49.,  50.,  51.,  52.,  53.,  54.,  55.,\n",
       "        56.,  57.,  58.,  59.,  60.,  61.,  62.,  63.,  64.,  65.,  66.,\n",
       "        67.,  68.,  69.,  70.,  71.,  72.,  73.,  74.,  75.,  76.,  77.,\n",
       "        78.,  79.,  80.,  81.,  82.,  83.,  84.,  85.,  86.,  87.,  88.,\n",
       "        89.,  90.,  91.,  92.,  93.,  94.,  95.,  96.,  97.,  98.,  99.,\n",
       "       100.])"
      ]
     },
     "execution_count": 9,
     "metadata": {},
     "output_type": "execute_result"
    }
   ],
   "source": [
    "best_guess = np.dot(theta, x.T)\n",
    "best_guess"
   ]
  },
  {
   "cell_type": "code",
   "execution_count": 10,
   "id": "67a96063",
   "metadata": {},
   "outputs": [
    {
     "data": {
      "text/plain": [
       "[Text(0.5, 0, 'x'),\n",
       " Text(0, 0.5, 'y'),\n",
       " Text(0.5, 1.0, 'Graph of y=2.x+100+random.uniform(30)')]"
      ]
     },
     "execution_count": 10,
     "metadata": {},
     "output_type": "execute_result"
    },
    {
     "data": {
      "image/png": "[encoded data removed]",
      "text/plain": [
       "<Figure size 504x360 with 1 Axes>"
      ]
     },
     "metadata": {
      "needs_background": "light"
     },
     "output_type": "display_data"
    }
   ],
   "source": [
    "fig = plt.figure(figsize=(7,5))\n",
    "fig = sns.scatterplot(x=x[:,1],y=best_guess)\n",
    "fig = sns.scatterplot(x=x[:,1],y=y)\n",
    "fig.set(xlabel=\"x\",ylabel=\"y\",title='Graph of y=2.x+100+random.uniform(30)')"
   ]
  },
  {
   "cell_type": "code",
   "execution_count": 11,
   "id": "9a755c3c",
   "metadata": {},
   "outputs": [
    {
     "data": {
      "text/plain": [
       "array([-116.71978245, -127.61588869, -110.40239263, -111.33620995,\n",
       "       -106.09776947, -110.65371127, -123.79723696, -117.57119018,\n",
       "       -114.67448359, -110.93368195, -120.56834107, -111.55975195,\n",
       "       -124.16473862, -130.67683335, -136.13630945, -131.16877836,\n",
       "       -117.66294072, -138.29214631, -144.87672372, -138.89336974,\n",
       "       -135.58585576, -144.75104453, -129.03606774, -132.34152234,\n",
       "       -135.21277632, -147.51517952, -141.85525133, -144.87014183,\n",
       "       -138.58839637, -130.75641611, -131.17280491, -151.1258845 ,\n",
       "       -146.10898184, -158.78665286, -137.6498408 , -155.28553861,\n",
       "       -160.06926869, -157.20076081, -144.22335756, -162.28501703,\n",
       "       -166.00533795, -159.90258599, -161.96387035, -169.06322379,\n",
       "       -168.79801978, -156.74073082, -165.41684893, -175.90833097,\n",
       "       -176.38316455, -164.37037855, -153.12702559, -164.41282408,\n",
       "       -152.36984687, -164.37189273, -164.09238168, -172.10642092,\n",
       "       -158.56141209, -160.51993739, -163.17713424, -185.6042231 ,\n",
       "       -179.7606424 , -182.45613511, -164.80608054, -169.58542142,\n",
       "       -169.77522233, -180.65881484, -192.36856274, -168.03254637,\n",
       "       -190.5566147 , -168.6981048 , -190.35461542, -185.20622028,\n",
       "       -190.07844364, -198.53111449, -176.14102517, -201.54695594,\n",
       "       -183.40418622, -187.2645607 , -178.25364552, -196.11196686,\n",
       "       -200.63935277, -195.06302311, -185.43115406, -190.97731908,\n",
       "       -206.83611013, -202.56638499, -192.50547145, -206.12142038,\n",
       "       -214.59136603, -202.42230719, -209.99639989, -210.16171787,\n",
       "       -194.24110317, -194.95314218, -193.33331704, -210.24412548,\n",
       "       -218.73859821, -218.04717777, -220.16990739, -210.65531343])"
      ]
     },
     "execution_count": 11,
     "metadata": {},
     "output_type": "execute_result"
    }
   ],
   "source": [
    "loss = best_guess - y\n",
    "loss"
   ]
  },
  {
   "cell_type": "code",
   "execution_count": 12,
   "id": "bd09402e",
   "metadata": {},
   "outputs": [
    {
     "data": {
      "text/plain": [
       "13844.386215640507"
      ]
     },
     "execution_count": 12,
     "metadata": {},
     "output_type": "execute_result"
    }
   ],
   "source": [
    "cost = np.sum(loss **2)/(2*m)\n",
    "cost"
   ]
  },
  {
   "cell_type": "code",
   "execution_count": 13,
   "id": "a2e3b4b1",
   "metadata": {},
   "outputs": [
    {
     "data": {
      "text/plain": [
       "array([  -163.62404221, -17320.65781499])"
      ]
     },
     "execution_count": 13,
     "metadata": {},
     "output_type": "execute_result"
    }
   ],
   "source": [
    "gradient = np.ones(n)\n",
    "gradient[0] = 0\n",
    "gradient[1] = 0\n",
    "for i in range(len(x)):\n",
    "    gradient[0]+= -(1/m)*(y[i]-((theta[0]*x[i,1])+theta[1]))\n",
    "    gradient[1]+= -(1/m)*x[i,1]*y[i]-((theta[0]*x[i,1])+theta[1])\n",
    "gradient"
   ]
  },
  {
   "cell_type": "code",
   "execution_count": 14,
   "id": "57702b9b",
   "metadata": {},
   "outputs": [
    {
     "data": {
      "text/plain": [
       "array([ -163.62404221, -8937.65781499])"
      ]
     },
     "execution_count": 14,
     "metadata": {},
     "output_type": "execute_result"
    }
   ],
   "source": [
    "gradient = np.dot(x.T, loss)/m\n",
    "gradient"
   ]
  },
  {
   "cell_type": "code",
   "execution_count": 15,
   "id": "ee00ae7e",
   "metadata": {},
   "outputs": [
    {
     "data": {
      "text/plain": [
       "array([1.08181202, 5.46882891])"
      ]
     },
     "execution_count": 15,
     "metadata": {},
     "output_type": "execute_result"
    }
   ],
   "source": [
    "theta = theta - alpha * gradient\n",
    "theta"
   ]
  },
  {
   "cell_type": "code",
   "execution_count": 16,
   "id": "fa58a25f",
   "metadata": {},
   "outputs": [],
   "source": [
    "best_guess = np.dot(theta, x.T)"
   ]
  },
  {
   "cell_type": "code",
   "execution_count": 17,
   "id": "9ad436c0",
   "metadata": {},
   "outputs": [
    {
     "data": {
      "text/plain": [
       "[Text(0.5, 0, 'x'),\n",
       " Text(0, 0.5, 'y'),\n",
       " Text(0.5, 1.0, 'Graph of y=2.x+100+random.uniform(30)')]"
      ]
     },
     "execution_count": 17,
     "metadata": {},
     "output_type": "execute_result"
    },
    {
     "data": {
      "image/png": "[encoded data removed]",
      "text/plain": [
       "<Figure size 504x360 with 1 Axes>"
      ]
     },
     "metadata": {
      "needs_background": "light"
     },
     "output_type": "display_data"
    }
   ],
   "source": [
    "fig2 = plt.figure(figsize=(7,5))\n",
    "fig2 = sns.scatterplot(x=x[:,1],y=best_guess)\n",
    "fig2 = sns.scatterplot(x=x[:,1],y=y)\n",
    "fig2.set(xlabel=\"x\",ylabel=\"y\",title='Graph of y=2.x+100+random.uniform(30)')"
   ]
  },
  {
   "cell_type": "code",
   "execution_count": 18,
   "id": "6dc7fb33",
   "metadata": {},
   "outputs": [
    {
     "data": {
      "text/plain": [
       "[Text(0.5, 0, 'x'),\n",
       " Text(0, 0.5, 'y'),\n",
       " Text(0.5, 1.0, 'Graph of y=2.x+100+random.uniform(30)')]"
      ]
     },
     "execution_count": 18,
     "metadata": {},
     "output_type": "execute_result"
    },
    {
     "data": {
      "image/png": "[encoded data removed]",
      "text/plain": [
       "<Figure size 504x360 with 1 Axes>"
      ]
     },
     "metadata": {
      "needs_background": "light"
     },
     "output_type": "display_data"
    }
   ],
   "source": [
    "numIterations = 10000\n",
    "for i in range(0,numIterations):\n",
    "    best_guess = np.dot(theta, x.T)\n",
    "    loss = best_guess -y\n",
    "    cost = np.sum(loss **2)/(2*m)\n",
    "    gradient = np.dot(x.T, loss)/m\n",
    "    theta = theta - alpha *gradient\n",
    "\n",
    "fig2 = plt.figure(figsize=(7,5))\n",
    "fig2 = sns.scatterplot(x=x[:,1],y=best_guess)\n",
    "fig2 = sns.scatterplot(x=x[:,1],y=y)\n",
    "fig2.set(xlabel=\"x\",ylabel=\"y\",title='Graph of y=2.x+100+random.uniform(30)')"
   ]
  },
  {
   "cell_type": "code",
   "execution_count": 19,
   "id": "64462439",
   "metadata": {},
   "outputs": [
    {
     "data": {
      "text/plain": [
       "array([82.83200878,  2.48838001])"
      ]
     },
     "execution_count": 19,
     "metadata": {},
     "output_type": "execute_result"
    }
   ],
   "source": [
    "theta"
   ]
  },
  {
   "cell_type": "code",
   "execution_count": 20,
   "id": "2cc87f96",
   "metadata": {},
   "outputs": [],
   "source": [
    "def gradientDescent(x,y,theta,alpha,numIterations):\n",
    "    x_length, x_width = np.shape(x)\n",
    "    \n",
    "    if(x_length!=y.size):\n",
    "        raise Exception(\"Error in gradientDescent: Length of x and y data inputs are different\")\n",
    "    else: \n",
    "        m = x_length\n",
    "    \n",
    "    if (x_width <2 ):\n",
    "        raise Exception(\"Error: x data must contain at least two columns with x=[0,n]=1\")\n",
    "        \n",
    "    for i in range(0,numIterations):\n",
    "        best_guess = np.dot(x,theta)\n",
    "        loss = best_guess - y\n",
    "        cost = np.sum(loss**2)/(2*m)\n",
    "        gradient = np.dot(x.T, loss)/m\n",
    "        theta = theta - alpha * gradient\n",
    "        return theta"
   ]
  },
  {
   "cell_type": "code",
   "execution_count": 21,
   "id": "d668f4a8",
   "metadata": {},
   "outputs": [
    {
     "name": "stdout",
     "output_type": "stream",
     "text": [
      "2\n"
     ]
    }
   ],
   "source": [
    "x, y = genData(numPoints = 100, A=2, K=100, variance = 30)\n",
    "theta = np.ones(n)\n",
    "print(n)"
   ]
  },
  {
   "cell_type": "code",
   "execution_count": 22,
   "id": "62e4978b",
   "metadata": {},
   "outputs": [
    {
     "data": {
      "text/plain": [
       "array([1.0820663 , 5.45684315])"
      ]
     },
     "execution_count": 22,
     "metadata": {},
     "output_type": "execute_result"
    }
   ],
   "source": [
    "theta = gradientDescent(x,y,theta,alpha=0.0005,numIterations = 10000)\n",
    "theta"
   ]
  },
  {
   "cell_type": "code",
   "execution_count": 23,
   "id": "b05ac43d",
   "metadata": {},
   "outputs": [
    {
     "data": {
      "image/png": "[encoded data removed]",
      "text/plain": [
       "<Figure size 504x360 with 1 Axes>"
      ]
     },
     "metadata": {
      "needs_background": "light"
     },
     "output_type": "display_data"
    }
   ],
   "source": [
    "best_guess = np.dot(theta, x.T)\n",
    "fig = plt.figure(figsize=(7,5))\n",
    "fig = sns.scatterplot(x=x[:,1],y=best_guess)\n",
    "fig = sns.scatterplot(x=x[:,1],y=y)"
   ]
  },
  {
   "cell_type": "code",
   "execution_count": 24,
   "id": "73152d8b",
   "metadata": {},
   "outputs": [],
   "source": [
    "# Extend to multiple dimension see notes"
   ]
  }
 ],
 "metadata": {
  "kernelspec": {
   "display_name": "Python 3 (ipykernel)",
   "language": "python",
   "name": "python3"
  },
  "language_info": {
   "codemirror_mode": {
    "name": "ipython",
    "version": 3
   },
   "file_extension": ".py",
   "mimetype": "text/x-python",
   "name": "python",
   "nbconvert_exporter": "python",
   "pygments_lexer": "ipython3",
   "version": "3.8.12"
  }
 },
 "nbformat": 4,
 "nbformat_minor": 5
}
